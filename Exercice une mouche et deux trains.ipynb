{
 "cells": [
  {
   "cell_type": "markdown",
   "metadata": {},
   "source": [
    "# Exercice une mouche et deux trains\n",
    "\n",
    "Deux trains, séparés de 200 km roulent l'un vers l'autre. Chacun avance à 50 km/h. \n",
    "Une mouche part de l'avant de l'un d'eux et vole à la vitesse de 75 km/h jusqu'à ce qu'elle rencontre le second train. A ce moment, elle fait demi-tour, jusqu'à ce qu'elle rencontre le premier train, puis fait demi-tour jusqu'à ce qu'elle rencontre le second et ainsi de suite, jusqu'à ce que les trains la tuent en se croisant. \n",
    "\n",
    "Faire un notebook python pour simuler les va et viens de la mouche et trouver le resultat.  \n",
    "Bonus: expliquer pourquoi il ne sers à rien."
   ]
  },
  {
   "cell_type": "code",
   "execution_count": 1,
   "metadata": {},
   "outputs": [],
   "source": [
    "# Conditions initiales\n",
    "time = 0\n",
    "T1 = 0\n",
    "T2 = 200\n",
    "M = 0\n",
    "VT1 = VT2 = 50\n",
    "VM = 75\n",
    "distance = 0"
   ]
  },
  {
   "cell_type": "code",
   "execution_count": 2,
   "metadata": {},
   "outputs": [],
   "source": [
    "# fonction qui calcule la durée du trajet de la mouche sur une itération\n",
    "def duree_mouche():\n",
    "    global T1, T2\n",
    "    d = (T2 - T1) / (VM+VT1)\n",
    "    return d"
   ]
  },
  {
   "cell_type": "code",
   "execution_count": 3,
   "metadata": {},
   "outputs": [],
   "source": [
    "# fonction qui met à jour les positions des trains et de la mouche après un trajet d'une durée d\n",
    "def new_positions(d):\n",
    "    global T1, T2, distance\n",
    "    T1 = T1 + (d*VT1)\n",
    "    T2 = T2 - (d*VT2)\n",
    "    distance = distance + (VM*d)"
   ]
  },
  {
   "cell_type": "code",
   "execution_count": 4,
   "metadata": {},
   "outputs": [
    {
     "name": "stdout",
     "output_type": "stream",
     "text": [
      "Combien d'itérations voulez-vous?: 5\n",
      "itération :  1\n",
      "Position T1: 80.0  Position T2: 120.0 Distance parcourue par la mouche: 120.0\n",
      "itération :  2\n",
      "Position T1: 96.0  Position T2: 104.0 Distance parcourue par la mouche: 144.0\n",
      "itération :  3\n",
      "Position T1: 99.2  Position T2: 100.8 Distance parcourue par la mouche: 148.8\n",
      "itération :  4\n",
      "Position T1: 99.84  Position T2: 100.16 Distance parcourue par la mouche: 149.76000000000002\n",
      "itération :  5\n",
      "Position T1: 99.968  Position T2: 100.032 Distance parcourue par la mouche: 149.95200000000003\n"
     ]
    }
   ],
   "source": [
    "# Programme principal\n",
    "\n",
    "iter = int(input(\"Combien d\\'itérations voulez-vous?: \")) \n",
    "for i in range(iter):\n",
    "    print('itération : ', i+1)\n",
    "    new_positions(duree_mouche())\n",
    "    print('Position T1:',T1,' Position T2:', T2, 'Distance parcourue par la mouche:', distance)\n"
   ]
  },
  {
   "cell_type": "markdown",
   "metadata": {},
   "source": [
    "# Rappel sur les suites géométriques\n",
    "https://www.maths-et-tiques.fr/telech/SuitesAG.pdf\n",
    "\n",
    "## Définition\n",
    "\n",
    "u _(n+1)_ = q × u _(n)_\n",
    "\n",
    "## Propriétés\n",
    "\n",
    "u _(n)_ = u _(0)_ × q^n\n",
    "\n",
    "n est un entier naturel non nul et q un réel différent de 1 alors on a :\n",
    "1+q+q^2+...+q^n = (1−q^(n+1))/(1-q))"
   ]
  },
  {
   "cell_type": "markdown",
   "metadata": {},
   "source": [
    "# La distance totale parcourue par la mouche est une suite géométrique\n",
    "En effet, on observe qu'à chaque itération n, la mouche parcourt 0,2 fois la distance qu'elle a parcourue à l'itération n-1.  On peut donc en déduire :\n",
    "\n",
    "## Suite géométrique distance mouche\n",
    "d0 = 120  \n",
    "d1 = 24 = 0,2 * d0  \n",
    "d2 = 4.8 = 0,2 * d1  \n",
    "...  \n",
    "d(n+1) = 0,2 * dn\n",
    "\n",
    "## Distance totale parcourue \n",
    "d_totale = d0 * (1-0,2^infini) / (1-0,2)  \n",
    "= 120 * 1 / 0,8  \n",
    "= 150 Km"
   ]
  },
  {
   "cell_type": "code",
   "execution_count": null,
   "metadata": {},
   "outputs": [],
   "source": []
  }
 ],
 "metadata": {
  "kernelspec": {
   "display_name": "Python 3",
   "language": "python",
   "name": "python3"
  },
  "language_info": {
   "codemirror_mode": {
    "name": "ipython",
    "version": 3
   },
   "file_extension": ".py",
   "mimetype": "text/x-python",
   "name": "python",
   "nbconvert_exporter": "python",
   "pygments_lexer": "ipython3",
   "version": "3.6.3"
  }
 },
 "nbformat": 4,
 "nbformat_minor": 2
}
